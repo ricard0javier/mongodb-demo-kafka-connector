{
  "cells": [
    {
      "cell_type": "markdown",
      "metadata": {},
      "source": [
        "[![Lab Documentation and Solutions](https://img.shields.io/badge/Lab%20Documentation%20and%20Solutions-purple)](https://mongodb-developer.github.io/vector-search-lab/)\n"
      ]
    },
    {
      "cell_type": "markdown",
      "metadata": {},
      "source": [
        "# Configure client\n"
      ]
    },
    {
      "cell_type": "code",
      "execution_count": null,
      "metadata": {},
      "outputs": [],
      "source": [
        "from pymongo import MongoClient\n",
        "from src.config import Config\n",
        "\n",
        "client = MongoClient(Config.MONGODB_URI)\n",
        "\n",
        "db = client[\"quickstart\"]\n",
        "\n",
        "print(db.list_collection_names())"
      ]
    },
    {
      "cell_type": "markdown",
      "metadata": {},
      "source": [
        "# Test Data\n"
      ]
    },
    {
      "cell_type": "code",
      "execution_count": null,
      "metadata": {},
      "outputs": [],
      "source": [
        "collection = db[\"sampleData\"]\n",
        "# collection.delete_many({})\n",
        "collection.insert_one({\"name\": \"John\", \"age\": 30})\n",
        "\n",
        "# Verify that the Kafka Connector is registered: http://localhost:9080/ui/demo-kafka/connect/kafka-connect\n",
        "# Verify that the entry is also in the Kafka topic\n",
        "# Kafka topic: quickstart-sampleData (UI: http://localhost:9080/ui/demo-kafka/topic/quickstart.sampleData/data)\n"
      ]
    },
    {
      "cell_type": "markdown",
      "metadata": {},
      "source": [
        "# Update Data\n"
      ]
    },
    {
      "cell_type": "code",
      "execution_count": null,
      "metadata": {},
      "outputs": [],
      "source": [
        "# monitor the kafka topic and see the updates\n",
        "# http://localhost:9080/ui/demo-kafka/tail?topicId=quickstart.sampleData\n",
        "\n",
        "collection.update_many({\"name\": \"John\"}, {\"$inc\": {\"age\": 1}})"
      ]
    }
  ],
  "metadata": {
    "kernelspec": {
      "display_name": "mongodb-demo-kafka-connector",
      "language": "python",
      "name": "python3"
    },
    "language_info": {
      "codemirror_mode": {
        "name": "ipython",
        "version": 3
      },
      "file_extension": ".py",
      "mimetype": "text/x-python",
      "name": "python",
      "nbconvert_exporter": "python",
      "pygments_lexer": "ipython3",
      "version": "3.11.13"
    },
    "widgets": {
      "application/vnd.jupyter.widget-state+json": {
        "state": {}
      }
    }
  },
  "nbformat": 4,
  "nbformat_minor": 2
}
